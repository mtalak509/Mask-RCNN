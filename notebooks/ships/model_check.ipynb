{
 "cells": [
  {
   "cell_type": "code",
   "execution_count": 1,
   "id": "73cbeaab",
   "metadata": {},
   "outputs": [],
   "source": [
    "from ultralytics import YOLO\n",
    "import torch"
   ]
  },
  {
   "cell_type": "code",
   "execution_count": 2,
   "id": "7f1295a1",
   "metadata": {},
   "outputs": [
    {
     "data": {
      "text/plain": [
       "'/home/maxim/DS/projects/Mask-RCNN/notebooks/ships'"
      ]
     },
     "execution_count": 2,
     "metadata": {},
     "output_type": "execute_result"
    }
   ],
   "source": [
    "pwd!"
   ]
  },
  {
   "cell_type": "code",
   "execution_count": null,
   "id": "391914ab",
   "metadata": {},
   "outputs": [],
   "source": [
    "model = YOLO('../../models/ships_yolo8/weights/best.pt')\n"
   ]
  },
  {
   "cell_type": "code",
   "execution_count": 8,
   "id": "aeb8620e",
   "metadata": {},
   "outputs": [
    {
     "name": "stdout",
     "output_type": "stream",
     "text": [
      "\n",
      "image 1/1 /home/maxim/DS/projects/Mask-RCNN/notebooks/ships/../../datasets/Ships/test/images/y0060_png.rf.e024c5b9450f521997de6d121f1693ef.jpg: 512x512 2 ships, 317.6ms\n",
      "Speed: 11.5ms preprocess, 317.6ms inference, 3.4ms postprocess per image at shape (1, 3, 512, 512)\n",
      "Results saved to \u001b[1m/home/maxim/DS/projects/Mask-RCNN/models/ships_yolo8/predicted/experiment\u001b[0m\n"
     ]
    }
   ],
   "source": [
    "results = model.predict(\n",
    "    source='../../datasets/Ships/test/images/y0060_png.rf.e024c5b9450f521997de6d121f1693ef.jpg',\n",
    "    save=True,\n",
    "    show=False, \n",
    "    project='../../models/ships_yolo8/predicted',  # основная папка\n",
    "    name='experiment',           # подпапка\n",
    "    exist_ok=True                  # перезаписывать если существует\n",
    ")"
   ]
  },
  {
   "cell_type": "code",
   "execution_count": 11,
   "id": "6e32db60",
   "metadata": {},
   "outputs": [
    {
     "name": "stdout",
     "output_type": "stream",
     "text": [
      "✅ Готово! Теперь используйте:\n",
      "data='../../datasets/Ships/data.yaml'\n"
     ]
    }
   ],
   "source": [
    "import yaml\n",
    "\n",
    "correct_config = {\n",
    "    'path': '../../datasets/Ships',\n",
    "    'train': 'train/images',\n",
    "    'val': 'valid/images',\n",
    "    'test': 'test/images', \n",
    "    'nc': 1,\n",
    "    'names': ['ship']\n",
    "}\n",
    "\n",
    "with open('../../datasets/Ships/data.yaml', 'w') as file:\n",
    "    yaml.dump(correct_config, file)\n",
    "\n",
    "print(\"✅ Готово! Теперь используйте:\")\n",
    "print(\"data='../../datasets/Ships/data.yaml'\")"
   ]
  },
  {
   "cell_type": "code",
   "execution_count": null,
   "id": "949b349a",
   "metadata": {},
   "outputs": [],
   "source": [
    "metrics = model.val(\n",
    "    data='../../datasets/Ships/data.yaml',  # ваш data.yaml файл\n",
    "    split='test',                     # используем валидационный набор\n",
    "    batch=16,                        # размер батча\n",
    "    imgsz=640,                       # размер изображения\n",
    "    conf=0.1,                      # порог confidence для детекции\n",
    "    iou=0.6,                         # порог IoU\n",
    "    device='cpu',                   # или 'cpu'\n",
    "    save_json=False,                  # сохранить метрики в JSON\n",
    "    save_hybrid=True,                # сохранить гибридные метрики\n",
    "    plots=True                       # построить графики\n",
    ")\n",
    "\n",
    "print(\"✅ Валидация завершена!\")"
   ]
  }
 ],
 "metadata": {
  "kernelspec": {
   "display_name": "CNN-MASK_proj",
   "language": "python",
   "name": "python3"
  },
  "language_info": {
   "codemirror_mode": {
    "name": "ipython",
    "version": 3
   },
   "file_extension": ".py",
   "mimetype": "text/x-python",
   "name": "python",
   "nbconvert_exporter": "python",
   "pygments_lexer": "ipython3",
   "version": "3.12.11"
  }
 },
 "nbformat": 4,
 "nbformat_minor": 5
}
