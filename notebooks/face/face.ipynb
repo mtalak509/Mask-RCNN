{
 "cells": [
  {
   "cell_type": "code",
   "execution_count": null,
   "id": "34c51194",
   "metadata": {},
   "outputs": [
    {
     "name": "stdout",
     "output_type": "stream",
     "text": [
      "\n",
      "image 1/1 C:\\Users\\327\\Desktop\\homeworks phase 2\\09 weeks\\Mask_CNN\\Mask-RCNN\\datasets\\images\\train\\0a3fed781e431408.jpg: 512x384 2 faces, 85.0ms\n",
      "Speed: 5.9ms preprocess, 85.0ms inference, 3.3ms postprocess per image at shape (1, 3, 512, 384)\n",
      "Results saved to \u001b[1mC:\\Users\\327\\runs\\detect\\predict\u001b[0m\n"
     ]
    }
   ],
   "source": [
    "from ultralytics import YOLO\n",
    "import cv2\n",
    "import matplotlib.pyplot as plt\n",
    "\n",
    "model = YOLO(r'C:\\Users\\327\\Desktop\\homeworks phase 2\\09 weeks\\Mask_CNN\\Mask-RCNN\\models\\train\\weights\\best.pt')\n",
    "\n",
    "# Путь к тестовой картинке\n",
    "img_path = r'C:\\Users\\327\\Desktop\\homeworks phase 2\\09 weeks\\Mask_CNN\\Mask-RCNN\\datasets\\images\\train\\0a3fed781e431408.jpg'   # измени под себя\n",
    "\n",
    "# Детекция\n",
    "results = model(img_path, save=True, show=True)"
   ]
  },
  {
   "cell_type": "code",
   "execution_count": null,
   "id": "dec46cf6",
   "metadata": {},
   "outputs": [],
   "source": [
    "\n",
    "img = cv2.imread(r'C:\\Users\\327\\Desktop\\homeworks phase 2\\09 weeks\\Mask_CNN\\Mask-RCNN\\datasets\\images\\train\\0a7ad22c5b040c00.jpg')\n",
    "results = model(img)\n",
    "\n",
    "for r in results:\n",
    "    for box in r.boxes.xyxy:\n",
    "        x1, y1, x2, y2 = map(int, box)\n",
    "        face_region = img[y1:y2, x1:x2]\n",
    "        # Маскирование — например, размыть\n",
    "        face_region = cv2.GaussianBlur(face_region, (51, 51), 30)\n",
    "        img[y1:y2, x1:x2] = face_region\n",
    "\n",
    "cv2.imwrite('masked_face.jpg', img)\n",
    "\n",
    "img_rgb = cv2.cvtColor(img, cv2.COLOR_BGR2RGB)\n",
    "\n",
    "# Отображаем прямо в ноутбуке\n",
    "plt.figure(figsize=(8, 8))\n",
    "plt.imshow(img_rgb)\n",
    "plt.axis('off')\n",
    "plt.title('Результат детекции и маскировки лиц')\n",
    "plt.show()\n"
   ]
  }
 ],
 "metadata": {
  "kernelspec": {
   "display_name": "venv",
   "language": "python",
   "name": "python3"
  },
  "language_info": {
   "codemirror_mode": {
    "name": "ipython",
    "version": 3
   },
   "file_extension": ".py",
   "mimetype": "text/x-python",
   "name": "python",
   "nbconvert_exporter": "python",
   "pygments_lexer": "ipython3",
   "version": "3.11.5"
  }
 },
 "nbformat": 4,
 "nbformat_minor": 5
}
